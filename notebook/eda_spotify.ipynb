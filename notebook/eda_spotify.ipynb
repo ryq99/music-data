{
 "cells": [
  {
   "cell_type": "code",
   "execution_count": 136,
   "metadata": {},
   "outputs": [],
   "source": [
    "import os\n",
    "import json\n",
    "import time\n",
    "from tqdm import tqdm\n",
    "os.chdir(\"/Users/ruichenyang/projects/music_data/\")"
   ]
  },
  {
   "cell_type": "code",
   "execution_count": 33,
   "metadata": {},
   "outputs": [],
   "source": [
    "import numpy as np\n",
    "import pandas as pd\n",
    "pd.set_option('display.max_rows', 500)\n",
    "pd.set_option('display.max_columns', 500)\n",
    "pd.set_option('display.max_colwidth', None)\n",
    "import spotipy\n",
    "from spotipy.oauth2 import SpotifyClientCredentials\n",
    "import yaml\n",
    "with open(\"config.yml\", \"rb\") as f:\n",
    "    config = yaml.safe_load(f)  "
   ]
  },
  {
   "cell_type": "code",
   "execution_count": 176,
   "metadata": {},
   "outputs": [],
   "source": [
    "sp = spotipy.Spotify(\n",
    "    auth_manager=SpotifyClientCredentials(\n",
    "        client_id=config['spotify_client_id'],\n",
    "        client_secret=config['spotify_client_secret'],\n",
    "        ))"
   ]
  },
  {
   "cell_type": "code",
   "execution_count": 4,
   "metadata": {},
   "outputs": [],
   "source": [
    "def print_json(result):\n",
    "    \"\"\n",
    "    return print(json.dumps(result, indent=4))"
   ]
  },
  {
   "cell_type": "markdown",
   "metadata": {},
   "source": [
    "### Get Artist Data Through Artist Name\n",
    "    - use search query\n",
    "    - take the most similar query (the first artist)"
   ]
  },
  {
   "cell_type": "code",
   "execution_count": 142,
   "metadata": {},
   "outputs": [],
   "source": [
    "result = sp.search(q='whitney houston', type='artist')"
   ]
  },
  {
   "cell_type": "code",
   "execution_count": 143,
   "metadata": {},
   "outputs": [],
   "source": [
    "artist = pd.DataFrame([[\n",
    "    result['artists']['items'][0]['uri'],\n",
    "    result['artists']['items'][0]['name'],\n",
    "    result['artists']['items'][0]['popularity'],\n",
    "    result['artists']['items'][0]['images'][0]['url'],\n",
    "    ', '.join(result['artists']['items'][0]['genres']),\n",
    "    result['artists']['items'][0]['followers']['total'],\n",
    "    ]], columns=['artist_uri', 'artist_nm', 'artist_pop', 'artist_img', 'artist_genre', 'artist_num_followers'])"
   ]
  },
  {
   "cell_type": "markdown",
   "metadata": {},
   "source": [
    "### Get Track Data Through Track Name"
   ]
  },
  {
   "cell_type": "code",
   "execution_count": 128,
   "metadata": {},
   "outputs": [],
   "source": [
    "result = sp.search(q='i wanna dance with sombody', type='track')"
   ]
  },
  {
   "cell_type": "code",
   "execution_count": 129,
   "metadata": {},
   "outputs": [],
   "source": [
    "#print_json(result['tracks']['items'][0])"
   ]
  },
  {
   "cell_type": "code",
   "execution_count": 193,
   "metadata": {},
   "outputs": [],
   "source": [
    "#print_json(sp.tracks(track_uris[:5])['tracks'])"
   ]
  },
  {
   "cell_type": "code",
   "execution_count": 130,
   "metadata": {},
   "outputs": [],
   "source": [
    "def get_tracks_from_query(result):\n",
    "    \"\"\n",
    "    tracks = pd.DataFrame()\n",
    "\n",
    "    for i in range(len(result['tracks']['items'])):\n",
    "        track = pd.DataFrame([[\n",
    "            result['tracks']['items'][i]['uri'],\n",
    "            result['tracks']['items'][i]['name'],\n",
    "            result['tracks']['items'][i]['popularity'],\n",
    "            result['tracks']['items'][i]['duration_ms'],\n",
    "            len(result['tracks']['items'][i]['available_markets']), # could be binary features\n",
    "            result['tracks']['items'][i]['external_urls']['spotify'],\n",
    "            ', '.join([d['name'] for d in result['tracks']['items'][i]['artists']]),\n",
    "            result['tracks']['items'][i]['album']['uri'], \n",
    "            result['tracks']['items'][i]['album']['name'],\n",
    "            result['tracks']['items'][i]['album']['album_type'],\n",
    "            result['tracks']['items'][i]['album']['images'][0]['url'],\n",
    "            result['tracks']['items'][i]['album']['total_tracks'],\n",
    "            result['tracks']['items'][i]['album']['release_date'],\n",
    "            result['tracks']['items'][i]['album']['external_urls']['spotify'],\n",
    "            ]], columns=['track_uri', 'track_nm', 'track_pop', 'track_runtime', 'track_num_countries', 'track_url', 'artist_nm', 'album_uri', 'album_nm', 'album_type', 'album_img', 'album_num_tracks', 'album_release_dt', 'album_url'])\n",
    "        tracks = pd.concat([tracks, track], axis=0)\n",
    "\n",
    "    return tracks"
   ]
  },
  {
   "cell_type": "code",
   "execution_count": 131,
   "metadata": {},
   "outputs": [
    {
     "name": "stderr",
     "output_type": "stream",
     "text": [
      "HTTP Error for GET to https://api.spotify.com/v1/search?query=i+wanna+dance+with+sombody&type=track&offset=1000&limit=10 with Params: {} returned 400 due to Bad request.\n"
     ]
    },
    {
     "name": "stdout",
     "output_type": "stream",
     "text": [
      "end of result.\n"
     ]
    },
    {
     "ename": "TypeError",
     "evalue": "'NoneType' object is not subscriptable",
     "output_type": "error",
     "traceback": [
      "\u001b[0;31m---------------------------------------------------------------------------\u001b[0m",
      "\u001b[0;31mTypeError\u001b[0m                                 Traceback (most recent call last)",
      "Cell \u001b[0;32mIn[131], line 3\u001b[0m\n\u001b[1;32m      1\u001b[0m tracks \u001b[39m=\u001b[39m get_tracks_from_query(result)\n\u001b[0;32m----> 3\u001b[0m \u001b[39mwhile\u001b[39;00m result[\u001b[39m'\u001b[39;49m\u001b[39mtracks\u001b[39;49m\u001b[39m'\u001b[39;49m][\u001b[39m'\u001b[39m\u001b[39mnext\u001b[39m\u001b[39m'\u001b[39m]:\n\u001b[1;32m      4\u001b[0m     \u001b[39mtry\u001b[39;00m:\n\u001b[1;32m      5\u001b[0m         result \u001b[39m=\u001b[39m sp\u001b[39m.\u001b[39mnext(result[\u001b[39m'\u001b[39m\u001b[39mtracks\u001b[39m\u001b[39m'\u001b[39m])\n",
      "\u001b[0;31mTypeError\u001b[0m: 'NoneType' object is not subscriptable"
     ]
    }
   ],
   "source": [
    "tracks = get_tracks_from_query(result)\n",
    "\n",
    "while result['tracks']['next']:\n",
    "    try:\n",
    "        result = sp.next(result['tracks'])\n",
    "        tracks = pd.concat([tracks, get_tracks_from_query(result)])\n",
    "    except:\n",
    "        print('end of result.')\n",
    "        result = None\n",
    "        pass\n"
   ]
  },
  {
   "cell_type": "code",
   "execution_count": 132,
   "metadata": {},
   "outputs": [
    {
     "data": {
      "text/html": [
       "<div>\n",
       "<style scoped>\n",
       "    .dataframe tbody tr th:only-of-type {\n",
       "        vertical-align: middle;\n",
       "    }\n",
       "\n",
       "    .dataframe tbody tr th {\n",
       "        vertical-align: top;\n",
       "    }\n",
       "\n",
       "    .dataframe thead th {\n",
       "        text-align: right;\n",
       "    }\n",
       "</style>\n",
       "<table border=\"1\" class=\"dataframe\">\n",
       "  <thead>\n",
       "    <tr style=\"text-align: right;\">\n",
       "      <th></th>\n",
       "      <th>track_uri</th>\n",
       "      <th>album_uri</th>\n",
       "      <th>track_nm</th>\n",
       "      <th>artist_nm</th>\n",
       "      <th>album_release_dt</th>\n",
       "      <th>track_url</th>\n",
       "    </tr>\n",
       "  </thead>\n",
       "  <tbody>\n",
       "    <tr>\n",
       "      <th>0</th>\n",
       "      <td>spotify:track:1uMmvZ8fmYUinSVbs5HTpK</td>\n",
       "      <td>spotify:album:00EjgohJGEYfe4vP35LVOv</td>\n",
       "      <td>I Wanna Dance With Somebody (Who Loves Me)</td>\n",
       "      <td>Whitney Houston, P2J</td>\n",
       "      <td>2022-12-16</td>\n",
       "      <td>https://open.spotify.com/track/1uMmvZ8fmYUinSVbs5HTpK</td>\n",
       "    </tr>\n",
       "  </tbody>\n",
       "</table>\n",
       "</div>"
      ],
      "text/plain": [
       "                              track_uri                             album_uri                                    track_nm             artist_nm album_release_dt                                              track_url\n",
       "0  spotify:track:1uMmvZ8fmYUinSVbs5HTpK  spotify:album:00EjgohJGEYfe4vP35LVOv  I Wanna Dance With Somebody (Who Loves Me)  Whitney Houston, P2J       2022-12-16  https://open.spotify.com/track/1uMmvZ8fmYUinSVbs5HTpK"
      ]
     },
     "execution_count": 132,
     "metadata": {},
     "output_type": "execute_result"
    }
   ],
   "source": [
    "tracks[['track_uri', 'album_uri', 'track_nm', 'artist_nm', 'album_release_dt', 'track_url']].loc[lambda x: x['artist_nm'].str.lower().str.contains('whitney houston, p2j')].sort_values(by=['album_release_dt'], ascending=False)"
   ]
  },
  {
   "cell_type": "code",
   "execution_count": 133,
   "metadata": {},
   "outputs": [
    {
     "data": {
      "text/plain": [
       "912"
      ]
     },
     "execution_count": 133,
     "metadata": {},
     "output_type": "execute_result"
    }
   ],
   "source": [
    "tracks['album_uri'].nunique()"
   ]
  },
  {
   "cell_type": "code",
   "execution_count": 146,
   "metadata": {},
   "outputs": [
    {
     "name": "stderr",
     "output_type": "stream",
     "text": [
      "In Progress: 100%|██████████| 91/91 [04:55<00:00,  3.25s/it]\n"
     ]
    }
   ],
   "source": [
    "album_uris = tracks['album_uri'].unique().tolist()\n",
    "result = None\n",
    "\n",
    "for b in tqdm(range(len(album_uris) // 10), desc='In Progress'):\n",
    "    #print(f\"in progress: {b*10}/{tracks['album_uri'].nunique()}\")\n",
    "    batch_uris = album_uris[b*10:min((b+1)*10, len(album_uris))]\n",
    "    result = sp.albums(batch_uris)\n",
    "\n",
    "    for a in result['albums']:\n",
    "        tracks.loc[lambda x: x['album_uri'] == a['uri'], 'album_cpr_txt'] = a['copyrights'][0]['text'] if a['copyrights'] else ''\n",
    "        tracks.loc[lambda x: x['album_uri'] == a['uri'], 'album_cpr_type'] = ', '.join([cpr['type'] for cpr in a['copyrights']]) if a['copyrights'] else ''\n",
    "        tracks.loc[lambda x: x['album_uri'] == a['uri'], 'album_label'] = a['label'] if a['label'] else ''\n",
    "    \n",
    "    time.sleep(3)"
   ]
  },
  {
   "cell_type": "code",
   "execution_count": 147,
   "metadata": {},
   "outputs": [
    {
     "data": {
      "text/html": [
       "<div>\n",
       "<style scoped>\n",
       "    .dataframe tbody tr th:only-of-type {\n",
       "        vertical-align: middle;\n",
       "    }\n",
       "\n",
       "    .dataframe tbody tr th {\n",
       "        vertical-align: top;\n",
       "    }\n",
       "\n",
       "    .dataframe thead th {\n",
       "        text-align: right;\n",
       "    }\n",
       "</style>\n",
       "<table border=\"1\" class=\"dataframe\">\n",
       "  <thead>\n",
       "    <tr style=\"text-align: right;\">\n",
       "      <th></th>\n",
       "      <th>track_uri</th>\n",
       "      <th>track_nm</th>\n",
       "      <th>track_pop</th>\n",
       "      <th>track_runtime</th>\n",
       "      <th>track_num_countries</th>\n",
       "      <th>track_url</th>\n",
       "      <th>artist_nm</th>\n",
       "      <th>album_uri</th>\n",
       "      <th>album_nm</th>\n",
       "      <th>album_type</th>\n",
       "      <th>album_img</th>\n",
       "      <th>album_num_tracks</th>\n",
       "      <th>album_release_dt</th>\n",
       "      <th>album_url</th>\n",
       "      <th>album_cpr_txt</th>\n",
       "      <th>album_cpr_type</th>\n",
       "      <th>album_label</th>\n",
       "    </tr>\n",
       "  </thead>\n",
       "  <tbody>\n",
       "    <tr>\n",
       "      <th>0</th>\n",
       "      <td>spotify:track:2tUBqZG2AbRi7Q0BIrVrEj</td>\n",
       "      <td>I Wanna Dance with Somebody (Who Loves Me)</td>\n",
       "      <td>80</td>\n",
       "      <td>291293</td>\n",
       "      <td>184</td>\n",
       "      <td>https://open.spotify.com/track/2tUBqZG2AbRi7Q0BIrVrEj</td>\n",
       "      <td>Whitney Houston</td>\n",
       "      <td>spotify:album:5Vdzprr5cOqXQo44eHeV7t</td>\n",
       "      <td>Whitney</td>\n",
       "      <td>album</td>\n",
       "      <td>https://i.scdn.co/image/ab67616d0000b273cc57e9b00b87dd0f6e868347</td>\n",
       "      <td>11</td>\n",
       "      <td>1987-06-02</td>\n",
       "      <td>https://open.spotify.com/album/5Vdzprr5cOqXQo44eHeV7t</td>\n",
       "      <td>(P) 1987 Arista Records LLC</td>\n",
       "      <td>P</td>\n",
       "      <td>Arista/Legacy</td>\n",
       "    </tr>\n",
       "    <tr>\n",
       "      <th>0</th>\n",
       "      <td>spotify:track:10BVvCsRJ7SxJmZEny4AVq</td>\n",
       "      <td>I Wanna Dance with Somebody (DJ Fluke Remix)</td>\n",
       "      <td>33</td>\n",
       "      <td>210967</td>\n",
       "      <td>184</td>\n",
       "      <td>https://open.spotify.com/track/10BVvCsRJ7SxJmZEny4AVq</td>\n",
       "      <td>DJ Femme, DJ Fluke, Hayley Teal</td>\n",
       "      <td>spotify:album:6dE2NwNuRjF4UYPQK15trb</td>\n",
       "      <td>I Wanna Dance with Somebody (DJ Fluke Remix)</td>\n",
       "      <td>single</td>\n",
       "      <td>https://i.scdn.co/image/ab67616d0000b27365c997d78d278c30378d0205</td>\n",
       "      <td>1</td>\n",
       "      <td>2022-09-02</td>\n",
       "      <td>https://open.spotify.com/album/6dE2NwNuRjF4UYPQK15trb</td>\n",
       "      <td>2022 ATN Recordings</td>\n",
       "      <td>C, P</td>\n",
       "      <td>ATN Recordings</td>\n",
       "    </tr>\n",
       "  </tbody>\n",
       "</table>\n",
       "</div>"
      ],
      "text/plain": [
       "                              track_uri                                      track_nm  track_pop  track_runtime  track_num_countries                                              track_url                        artist_nm                             album_uri                                      album_nm album_type                                                         album_img  album_num_tracks album_release_dt                                              album_url                album_cpr_txt album_cpr_type     album_label\n",
       "0  spotify:track:2tUBqZG2AbRi7Q0BIrVrEj    I Wanna Dance with Somebody (Who Loves Me)         80         291293                  184  https://open.spotify.com/track/2tUBqZG2AbRi7Q0BIrVrEj                  Whitney Houston  spotify:album:5Vdzprr5cOqXQo44eHeV7t                                       Whitney      album  https://i.scdn.co/image/ab67616d0000b273cc57e9b00b87dd0f6e868347                11       1987-06-02  https://open.spotify.com/album/5Vdzprr5cOqXQo44eHeV7t  (P) 1987 Arista Records LLC              P   Arista/Legacy\n",
       "0  spotify:track:10BVvCsRJ7SxJmZEny4AVq  I Wanna Dance with Somebody (DJ Fluke Remix)         33         210967                  184  https://open.spotify.com/track/10BVvCsRJ7SxJmZEny4AVq  DJ Femme, DJ Fluke, Hayley Teal  spotify:album:6dE2NwNuRjF4UYPQK15trb  I Wanna Dance with Somebody (DJ Fluke Remix)     single  https://i.scdn.co/image/ab67616d0000b27365c997d78d278c30378d0205                 1       2022-09-02  https://open.spotify.com/album/6dE2NwNuRjF4UYPQK15trb          2022 ATN Recordings           C, P  ATN Recordings"
      ]
     },
     "execution_count": 147,
     "metadata": {},
     "output_type": "execute_result"
    }
   ],
   "source": [
    "tracks.head(2)"
   ]
  },
  {
   "cell_type": "code",
   "execution_count": 148,
   "metadata": {},
   "outputs": [
    {
     "data": {
      "text/html": [
       "<div>\n",
       "<style scoped>\n",
       "    .dataframe tbody tr th:only-of-type {\n",
       "        vertical-align: middle;\n",
       "    }\n",
       "\n",
       "    .dataframe tbody tr th {\n",
       "        vertical-align: top;\n",
       "    }\n",
       "\n",
       "    .dataframe thead th {\n",
       "        text-align: right;\n",
       "    }\n",
       "</style>\n",
       "<table border=\"1\" class=\"dataframe\">\n",
       "  <thead>\n",
       "    <tr style=\"text-align: right;\">\n",
       "      <th></th>\n",
       "      <th>artist_uri</th>\n",
       "      <th>artist_nm</th>\n",
       "      <th>artist_pop</th>\n",
       "      <th>artist_img</th>\n",
       "      <th>artist_genre</th>\n",
       "      <th>artist_num_followers</th>\n",
       "    </tr>\n",
       "  </thead>\n",
       "  <tbody>\n",
       "    <tr>\n",
       "      <th>0</th>\n",
       "      <td>spotify:artist:6XpaIBNiVzIetEPCWDvAFP</td>\n",
       "      <td>Whitney Houston</td>\n",
       "      <td>78</td>\n",
       "      <td>https://i.scdn.co/image/ab6761610000e5ebcd9f60ab57585bf3b77ecc51</td>\n",
       "      <td>dance pop, urban contemporary</td>\n",
       "      <td>8697270</td>\n",
       "    </tr>\n",
       "  </tbody>\n",
       "</table>\n",
       "</div>"
      ],
      "text/plain": [
       "                              artist_uri        artist_nm  artist_pop                                                        artist_img                   artist_genre  artist_num_followers\n",
       "0  spotify:artist:6XpaIBNiVzIetEPCWDvAFP  Whitney Houston          78  https://i.scdn.co/image/ab6761610000e5ebcd9f60ab57585bf3b77ecc51  dance pop, urban contemporary               8697270"
      ]
     },
     "execution_count": 148,
     "metadata": {},
     "output_type": "execute_result"
    }
   ],
   "source": [
    "artist.head(2)"
   ]
  },
  {
   "cell_type": "code",
   "execution_count": 150,
   "metadata": {},
   "outputs": [],
   "source": [
    "#sp.search('post malone')"
   ]
  },
  {
   "cell_type": "code",
   "execution_count": 154,
   "metadata": {},
   "outputs": [],
   "source": [
    "#print_json(sp.artist_related_artists('spotify:artist:246dkjvS1zLTtiykXe5h60'))"
   ]
  },
  {
   "cell_type": "code",
   "execution_count": 158,
   "metadata": {},
   "outputs": [],
   "source": [
    "#print_json(sp.artist_top_tracks('spotify:artist:246dkjvS1zLTtiykXe5h60', country='US'))"
   ]
  },
  {
   "cell_type": "code",
   "execution_count": 160,
   "metadata": {},
   "outputs": [],
   "source": [
    "#print_json(sp.audio_analysis('spotify:track:2tUBqZG2AbRi7Q0BIrVrEj'))"
   ]
  },
  {
   "cell_type": "code",
   "execution_count": 164,
   "metadata": {},
   "outputs": [
    {
     "name": "stdout",
     "output_type": "stream",
     "text": [
      "[\n",
      "    {\n",
      "        \"danceability\": 0.74,\n",
      "        \"energy\": 0.947,\n",
      "        \"key\": 1,\n",
      "        \"loudness\": -2.527,\n",
      "        \"mode\": 1,\n",
      "        \"speechiness\": 0.0447,\n",
      "        \"acousticness\": 0.0113,\n",
      "        \"instrumentalness\": 0.00631,\n",
      "        \"liveness\": 0.0844,\n",
      "        \"valence\": 0.197,\n",
      "        \"tempo\": 123.975,\n",
      "        \"type\": \"audio_features\",\n",
      "        \"id\": \"10BVvCsRJ7SxJmZEny4AVq\",\n",
      "        \"uri\": \"spotify:track:10BVvCsRJ7SxJmZEny4AVq\",\n",
      "        \"track_href\": \"https://api.spotify.com/v1/tracks/10BVvCsRJ7SxJmZEny4AVq\",\n",
      "        \"analysis_url\": \"https://api.spotify.com/v1/audio-analysis/10BVvCsRJ7SxJmZEny4AVq\",\n",
      "        \"duration_ms\": 210968,\n",
      "        \"time_signature\": 4\n",
      "    }\n",
      "]\n"
     ]
    }
   ],
   "source": [
    "print_json(sp.audio_features('spotify:track:10BVvCsRJ7SxJmZEny4AVq'))"
   ]
  },
  {
   "cell_type": "code",
   "execution_count": 173,
   "metadata": {},
   "outputs": [
    {
     "name": "stderr",
     "output_type": "stream",
     "text": [
      "In Progress: 100%|██████████| 98/98 [05:10<00:00,  3.17s/it]\n"
     ]
    }
   ],
   "source": [
    "track_uris = tracks['track_uri'].unique().tolist()\n",
    "result = None\n",
    "\n",
    "for b in tqdm(range(len(track_uris) // 10), desc='In Progress'):\n",
    "    batch_uris = track_uris[b*10:min((b+1)*10, len(track_uris))]\n",
    "    result = sp.audio_features(batch_uris)\n",
    "\n",
    "    for t in result:\n",
    "        tracks.loc[lambda x: x['track_uri'] == t['uri'], 'track_danceability']     = t['danceability']\n",
    "        tracks.loc[lambda x: x['track_uri'] == t['uri'], 'track_energy']           = t['energy']\n",
    "        tracks.loc[lambda x: x['track_uri'] == t['uri'], 'track_loudness']         = t['loudness']\n",
    "        tracks.loc[lambda x: x['track_uri'] == t['uri'], 'track_speechiness']      = t['speechiness']\n",
    "        tracks.loc[lambda x: x['track_uri'] == t['uri'], 'track_acousticness']     = t['acousticness']\n",
    "        tracks.loc[lambda x: x['track_uri'] == t['uri'], 'track_instrumentalness'] = t['instrumentalness']\n",
    "        tracks.loc[lambda x: x['track_uri'] == t['uri'], 'track_liveness']         = t['liveness']\n",
    "        tracks.loc[lambda x: x['track_uri'] == t['uri'], 'track_valence']          = t['valence']\n",
    "        tracks.loc[lambda x: x['track_uri'] == t['uri'], 'track_tsig']             = t['time_signature']\n",
    "        tracks.loc[lambda x: x['track_uri'] == t['uri'], 'track_tempo']            = t['tempo']\n",
    "    \n",
    "    time.sleep(3)\n"
   ]
  },
  {
   "cell_type": "code",
   "execution_count": 174,
   "metadata": {},
   "outputs": [
    {
     "data": {
      "text/html": [
       "<div>\n",
       "<style scoped>\n",
       "    .dataframe tbody tr th:only-of-type {\n",
       "        vertical-align: middle;\n",
       "    }\n",
       "\n",
       "    .dataframe tbody tr th {\n",
       "        vertical-align: top;\n",
       "    }\n",
       "\n",
       "    .dataframe thead th {\n",
       "        text-align: right;\n",
       "    }\n",
       "</style>\n",
       "<table border=\"1\" class=\"dataframe\">\n",
       "  <thead>\n",
       "    <tr style=\"text-align: right;\">\n",
       "      <th></th>\n",
       "      <th>track_uri</th>\n",
       "      <th>track_nm</th>\n",
       "      <th>track_pop</th>\n",
       "      <th>track_runtime</th>\n",
       "      <th>track_num_countries</th>\n",
       "      <th>track_url</th>\n",
       "      <th>artist_nm</th>\n",
       "      <th>album_uri</th>\n",
       "      <th>album_nm</th>\n",
       "      <th>album_type</th>\n",
       "      <th>album_img</th>\n",
       "      <th>album_num_tracks</th>\n",
       "      <th>album_release_dt</th>\n",
       "      <th>album_url</th>\n",
       "      <th>album_cpr_txt</th>\n",
       "      <th>album_cpr_type</th>\n",
       "      <th>album_label</th>\n",
       "      <th>track_danceability</th>\n",
       "      <th>track_energy</th>\n",
       "      <th>track_loudness</th>\n",
       "      <th>track_speechiness</th>\n",
       "      <th>track_acousticness</th>\n",
       "      <th>track_instrumentalness</th>\n",
       "      <th>track_liveness</th>\n",
       "      <th>track_valence</th>\n",
       "      <th>track_tsig</th>\n",
       "      <th>track_tempo</th>\n",
       "    </tr>\n",
       "  </thead>\n",
       "  <tbody>\n",
       "    <tr>\n",
       "      <th>0</th>\n",
       "      <td>spotify:track:2tUBqZG2AbRi7Q0BIrVrEj</td>\n",
       "      <td>I Wanna Dance with Somebody (Who Loves Me)</td>\n",
       "      <td>80</td>\n",
       "      <td>291293</td>\n",
       "      <td>184</td>\n",
       "      <td>https://open.spotify.com/track/2tUBqZG2AbRi7Q0BIrVrEj</td>\n",
       "      <td>Whitney Houston</td>\n",
       "      <td>spotify:album:5Vdzprr5cOqXQo44eHeV7t</td>\n",
       "      <td>Whitney</td>\n",
       "      <td>album</td>\n",
       "      <td>https://i.scdn.co/image/ab67616d0000b273cc57e9b00b87dd0f6e868347</td>\n",
       "      <td>11</td>\n",
       "      <td>1987-06-02</td>\n",
       "      <td>https://open.spotify.com/album/5Vdzprr5cOqXQo44eHeV7t</td>\n",
       "      <td>(P) 1987 Arista Records LLC</td>\n",
       "      <td>P</td>\n",
       "      <td>Arista/Legacy</td>\n",
       "      <td>0.709</td>\n",
       "      <td>0.824</td>\n",
       "      <td>-8.824</td>\n",
       "      <td>0.0453</td>\n",
       "      <td>0.2070</td>\n",
       "      <td>0.000307</td>\n",
       "      <td>0.0888</td>\n",
       "      <td>0.867</td>\n",
       "      <td>4.0</td>\n",
       "      <td>118.818</td>\n",
       "    </tr>\n",
       "    <tr>\n",
       "      <th>0</th>\n",
       "      <td>spotify:track:10BVvCsRJ7SxJmZEny4AVq</td>\n",
       "      <td>I Wanna Dance with Somebody (DJ Fluke Remix)</td>\n",
       "      <td>33</td>\n",
       "      <td>210967</td>\n",
       "      <td>184</td>\n",
       "      <td>https://open.spotify.com/track/10BVvCsRJ7SxJmZEny4AVq</td>\n",
       "      <td>DJ Femme, DJ Fluke, Hayley Teal</td>\n",
       "      <td>spotify:album:6dE2NwNuRjF4UYPQK15trb</td>\n",
       "      <td>I Wanna Dance with Somebody (DJ Fluke Remix)</td>\n",
       "      <td>single</td>\n",
       "      <td>https://i.scdn.co/image/ab67616d0000b27365c997d78d278c30378d0205</td>\n",
       "      <td>1</td>\n",
       "      <td>2022-09-02</td>\n",
       "      <td>https://open.spotify.com/album/6dE2NwNuRjF4UYPQK15trb</td>\n",
       "      <td>2022 ATN Recordings</td>\n",
       "      <td>C, P</td>\n",
       "      <td>ATN Recordings</td>\n",
       "      <td>0.740</td>\n",
       "      <td>0.947</td>\n",
       "      <td>-2.527</td>\n",
       "      <td>0.0447</td>\n",
       "      <td>0.0113</td>\n",
       "      <td>0.006310</td>\n",
       "      <td>0.0844</td>\n",
       "      <td>0.197</td>\n",
       "      <td>4.0</td>\n",
       "      <td>123.975</td>\n",
       "    </tr>\n",
       "  </tbody>\n",
       "</table>\n",
       "</div>"
      ],
      "text/plain": [
       "                              track_uri                                      track_nm  track_pop  track_runtime  track_num_countries                                              track_url                        artist_nm                             album_uri                                      album_nm album_type                                                         album_img  album_num_tracks album_release_dt                                              album_url                album_cpr_txt album_cpr_type     album_label  track_danceability  track_energy  track_loudness  track_speechiness  track_acousticness  track_instrumentalness  track_liveness  track_valence  track_tsig  track_tempo\n",
       "0  spotify:track:2tUBqZG2AbRi7Q0BIrVrEj    I Wanna Dance with Somebody (Who Loves Me)         80         291293                  184  https://open.spotify.com/track/2tUBqZG2AbRi7Q0BIrVrEj                  Whitney Houston  spotify:album:5Vdzprr5cOqXQo44eHeV7t                                       Whitney      album  https://i.scdn.co/image/ab67616d0000b273cc57e9b00b87dd0f6e868347                11       1987-06-02  https://open.spotify.com/album/5Vdzprr5cOqXQo44eHeV7t  (P) 1987 Arista Records LLC              P   Arista/Legacy               0.709         0.824          -8.824             0.0453              0.2070                0.000307          0.0888          0.867         4.0      118.818\n",
       "0  spotify:track:10BVvCsRJ7SxJmZEny4AVq  I Wanna Dance with Somebody (DJ Fluke Remix)         33         210967                  184  https://open.spotify.com/track/10BVvCsRJ7SxJmZEny4AVq  DJ Femme, DJ Fluke, Hayley Teal  spotify:album:6dE2NwNuRjF4UYPQK15trb  I Wanna Dance with Somebody (DJ Fluke Remix)     single  https://i.scdn.co/image/ab67616d0000b27365c997d78d278c30378d0205                 1       2022-09-02  https://open.spotify.com/album/6dE2NwNuRjF4UYPQK15trb          2022 ATN Recordings           C, P  ATN Recordings               0.740         0.947          -2.527             0.0447              0.0113                0.006310          0.0844          0.197         4.0      123.975"
      ]
     },
     "execution_count": 174,
     "metadata": {},
     "output_type": "execute_result"
    }
   ],
   "source": [
    "tracks.head(2)"
   ]
  },
  {
   "cell_type": "code",
   "execution_count": null,
   "metadata": {},
   "outputs": [],
   "source": []
  }
 ],
 "metadata": {
  "kernelspec": {
   "display_name": "Python 3.10.9 ('music_data_env_3.10')",
   "language": "python",
   "name": "python3"
  },
  "language_info": {
   "codemirror_mode": {
    "name": "ipython",
    "version": 3
   },
   "file_extension": ".py",
   "mimetype": "text/x-python",
   "name": "python",
   "nbconvert_exporter": "python",
   "pygments_lexer": "ipython3",
   "version": "3.10.9"
  },
  "orig_nbformat": 4,
  "vscode": {
   "interpreter": {
    "hash": "86e9daa940b4d30f4cb48424733a65db116c32a2ff540f3a788f885f05bb4383"
   }
  }
 },
 "nbformat": 4,
 "nbformat_minor": 2
}
